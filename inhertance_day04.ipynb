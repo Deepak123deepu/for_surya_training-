{
 "cells": [
  {
   "cell_type": "markdown",
   "metadata": {},
   "source": [
    "# Day01\n",
    "\n",
    "\n",
    "main trc :\n",
    " - ops \n",
    " - dsa \n",
    " \n",
    "sud trc:\n",
    " - commone topics ... python "
   ]
  },
  {
   "cell_type": "code",
   "execution_count": null,
   "metadata": {},
   "outputs": [],
   "source": [
    "\"\"\"\n",
    " phone -> call, iternet ... mus \n",
    "    |\n",
    "    ^\n",
    "    sam , apple\n",
    "    \n",
    "\n",
    "class -> var, def \n",
    "  |\n",
    "  ^\n",
    " obj1, obj2, ... ! \n",
    "\n",
    "\"\"\""
   ]
  },
  {
   "cell_type": "code",
   "execution_count": 7,
   "metadata": {},
   "outputs": [
    {
     "name": "stdout",
     "output_type": "stream",
     "text": [
      "0.6666666666666666\n"
     ]
    }
   ],
   "source": [
    "class calu():\n",
    "    def __init__(self,a,b):\n",
    "        self.a = a # 2\n",
    "        self.b = b # 3\n",
    "        \n",
    "    def add(self):\n",
    "        return self.a+self.b  \n",
    "    def sub(self):\n",
    "        return self.a-self.b\n",
    "    def mul(self):\n",
    "        return self.a*self.b\n",
    "    def div(self):\n",
    "        return self.a/self.b\n",
    "    \n",
    "obj1 = calu(2,3) # obj is one which carrys all the fuctionalt of the class \n",
    "# obj2 = calu(8,9)\n",
    "print(obj1.div())"
   ]
  },
  {
   "cell_type": "code",
   "execution_count": 10,
   "metadata": {},
   "outputs": [
    {
     "name": "stdout",
     "output_type": "stream",
     "text": [
      "this is the name of emp deepak\n",
      "this is the EMPID of emp 101\n",
      "this is the salary of emp 160000\n",
      "20000\n"
     ]
    }
   ],
   "source": [
    "# INNER CLASS (ABV)\n",
    "\n",
    "class empo(): # -> main class \n",
    "    def __init__(self, name, empID, std):\n",
    "        self.name = name\n",
    "        self.empID = empID\n",
    "        self.std = std\n",
    "        self.sarl = self.comp_stand()\n",
    "#       self.salary = self.obj1.getSAL(self.std)\n",
    "        \n",
    "    def show_deti(self):\n",
    "        print(f\"this is the name of emp {self.name}\")\n",
    "        print(f\"this is the EMPID of emp {self.empID}\")\n",
    "        print(f\"this is the salary of emp {self.sarl.getSAL(self.std)}\")\n",
    "        \n",
    "        \n",
    "    class comp_stand(): # -> innner class \n",
    "        # comp 1 \n",
    "        def __init__(self):\n",
    "            self.fixSAL = 20000\n",
    "            \n",
    "        def getSAL(self,std):\n",
    "            return self.fixSAL*std\n",
    "    \n",
    "    \n",
    "emp1 = empo(\"deepak\", 101, 8)\n",
    "emp1.show_deti()\n",
    "\n",
    "\n",
    "cts = emp1.comp_stand() # creating obj for inner class outside of the class we do it like this \n",
    "print(cts.fixSAL)"
   ]
  },
  {
   "cell_type": "code",
   "execution_count": null,
   "metadata": {},
   "outputs": [],
   "source": [
    "\"\"\"\n",
    "class comp() -> main class\n",
    "    --init-- \n",
    "    \n",
    "    class laptop() -> 'e1','e2','e3'\n",
    "        if e1 -> mac book \n",
    "        elsif e2 -> hp lap \n",
    "        else -> dell lap \n",
    "\"\"\""
   ]
  },
  {
   "cell_type": "markdown",
   "metadata": {},
   "source": [
    "# day2 \n",
    "\n",
    "## Time and space comp  \n",
    "\n",
    "\n",
    "-> O(n), O(1)"
   ]
  },
  {
   "cell_type": "code",
   "execution_count": 1,
   "metadata": {},
   "outputs": [
    {
     "name": "stdout",
     "output_type": "stream",
     "text": [
      "[4, 9, 25, 36, 16, 64, 144]\n"
     ]
    }
   ],
   "source": [
    "\"\"\"\n",
    "Time = a*n + b\n",
    "\n",
    "\t1. Keep the fastest growing term or function \n",
    "\t2. Do not have constants (remove)\n",
    "\n",
    "A * n + (B) -> this will not give any scene \n",
    "\n",
    "500000 * 2 + 1000\n",
    "10,00,000 \n",
    "10,01,000\n",
    "\n",
    "A *n  -> fastest growing term \n",
    "O(n) -> time com \n",
    "\"\"\"\n",
    "# O(n) time comp \n",
    "def getSqures(array):\n",
    "    tempArray = []\n",
    "    for i in array:\n",
    "        tempArray.append(i*i)\n",
    "    return tempArray\n",
    "\n",
    "\n",
    "number = [2,3,5,6,4,8,12]\n",
    "resultArray = getSqures(number)\n",
    "print(resultArray)"
   ]
  },
  {
   "cell_type": "code",
   "execution_count": 3,
   "metadata": {},
   "outputs": [
    {
     "name": "stdout",
     "output_type": "stream",
     "text": [
      "110\n"
     ]
    }
   ],
   "source": [
    "\"\"\"\n",
    "constant time comp \n",
    "y\n",
    "|\n",
    "|\n",
    "|\n",
    "| -----------------\n",
    "-------------->x\n",
    "\n",
    "    time = a\n",
    "    \n",
    "    - keep fastest growing term \n",
    "    - removing constants \n",
    "    \n",
    "    O(1) -> constant time comp \n",
    "\n",
    "\"\"\"\n",
    "\n",
    "def findMRP(price,gst,item):\n",
    "    mrp = (price[item] + gst[item])*10\n",
    "    return mrp \n",
    "    \n",
    "\n",
    "\n",
    "price = [1,2,3,4,5,6]\n",
    "gst = [12,13,10,9,6,5] \n",
    "resultMRP = findMRP(price,gst,5)\n",
    "print(resultMRP)"
   ]
  },
  {
   "cell_type": "markdown",
   "metadata": {},
   "source": [
    "# day3 \n",
    "\n",
    "## Time and space comp  \n",
    "\n",
    "\n",
    "-> O(n^2), O(log(n))"
   ]
  },
  {
   "cell_type": "code",
   "execution_count": 9,
   "metadata": {},
   "outputs": [
    {
     "name": "stdout",
     "output_type": "stream",
     "text": [
      "hrer is your number: 3\n"
     ]
    }
   ],
   "source": [
    "\"\"\"\n",
    "Time taken      propos              no.of computations that happes in program     \n",
    "\n",
    "Space taken       ''                no.of computations \n",
    "\n",
    "\t Time , space will grow linearly \n",
    "\n",
    "\"\"\"\n",
    "\n",
    "\n",
    "# finding repeted element in a array \n",
    "\n",
    "list1 = [1, 4, 3, 5, 6, 3....... n]\n",
    "#           i1 j(i+1)\n",
    "\n",
    "\"\"\"\n",
    "1. start i at 0th index \n",
    "2. start j at i+1 index \n",
    "3 compare ith and jth index element \n",
    "4. if you find a element equal then \n",
    "    you found the ele \n",
    "5. end the loops \n",
    "\"\"\"\n",
    "for i in range(len(list1)): # looping -> n time \n",
    "    for j in range(i+1, len(list1)): # looping -> n+1 time \n",
    "        if list1[i] == list1[j]:                        #| computation \n",
    "            print(\"hrer is your number:\" , list1[i])    #| computation\n",
    "            break\n",
    "            \n",
    "\"\"\"\n",
    "analysis of time comp \n",
    "\n",
    "time = a * n^2 + b\n",
    "\n",
    "1. keep the fast growing term \n",
    "2. removing the constants \n",
    "\n",
    "-> O(n^2)\n",
    "\n",
    "\"\"\""
   ]
  },
  {
   "cell_type": "code",
   "execution_count": 14,
   "metadata": {},
   "outputs": [
    {
     "name": "stdout",
     "output_type": "stream",
     "text": [
      "[1, 4, 5, 6]\n"
     ]
    }
   ],
   "source": [
    "\"\"\"\n",
    "time comp -> mesuring run time growth \n",
    "space comp -> measuting space growth \n",
    "\"\"\"\n",
    "\n",
    "# find repeted ele in the list and remove them \n",
    "list1 = [1, 4, 3, 5, 6, 3]\n",
    "listWithNoRep = []\n",
    "dep = None \n",
    "for i in range(len(list1)): # looping -> n time \n",
    "    for j in range(i+1, len(list1)): # looping -> n+1 time \n",
    "        if list1[i] == list1[j]:                        #| computation \n",
    "            dep = list1[i]    #| computation\n",
    "            break\n",
    "            \n",
    "for i in range(len(list1)):\n",
    "    if list1[i] == dep:\n",
    "        continue \n",
    "    else:\n",
    "        listWithNoRep.append(list1[i])\n",
    "        \n",
    "print(listWithNoRep)\n",
    "\n",
    "\"\"\"\n",
    "time comp -> a * n^2 + b * n + c \n",
    "\n",
    "1. keep the fast growth term \n",
    "2. drop the constants \n",
    "\n",
    "big o to refer to the large value of impact of n \n",
    "\n",
    "time = 4 * n^2 + 5 * n + 25 \n",
    "\n",
    "if n = 1000\n",
    "\n",
    "    4 * (10,00,000) + 5 * (1000) \n",
    "    \n",
    "    40,00,000 + 5000\n",
    "\n",
    "time = a * n^2\n",
    "\n",
    "->  O(n^2)\n",
    "\n",
    "O(logn) - > bin sec\n",
    "\"\"\"\n"
   ]
  },
  {
   "cell_type": "markdown",
   "metadata": {},
   "source": [
    "# day4\n",
    "\n",
    "### stack and inhertance "
   ]
  },
  {
   "cell_type": "code",
   "execution_count": 2,
   "metadata": {
    "collapsed": true
   },
   "outputs": [
    {
     "name": "stdout",
     "output_type": "stream",
     "text": [
      "pora\n",
      "pove\n",
      "pove\n",
      "pove\n",
      "pove\n",
      "pove\n",
      "pove\n",
      "pora\n",
      "pove\n",
      "pove\n",
      "pove\n",
      "pove\n",
      "pove\n",
      "pove\n",
      "pora\n",
      "pove\n",
      "pove\n",
      "pove\n",
      "pove\n",
      "pove\n",
      "pove\n",
      "pora\n",
      "pove\n",
      "pove\n",
      "pove\n",
      "pove\n",
      "pove\n",
      "pove\n",
      "pora\n",
      "pove\n",
      "pove\n",
      "pove\n",
      "pove\n",
      "pove\n",
      "pove\n",
      "pora\n"
     ]
    }
   ],
   "source": [
    "lis = [1,2,3,4,5,6]\n",
    "print(2+2)\n",
    "de = None\n",
    "\n",
    "for i in lis: -> len(list)\n",
    "    for j in lis: -> len(list) + 1\n",
    "        if i == j:\n",
    "            print(\"pora\")\n",
    "        else:\n",
    "            print(\"pove\")\n",
    "            \n",
    "            \n",
    "for i in lis: -> len(list)\n",
    "    for j in lis: -> len(list) + 1\n",
    "        if i == j:\n",
    "            de = \"pora\"\n",
    "        else:\n",
    "            de = \"pove\"\n",
    "            \n",
    "time = a*n^2+b* n^2 + c\n",
    "\n",
    "time = n^2 + n^2\n",
    "\n",
    "time = O(n^2)"
   ]
  },
  {
   "cell_type": "code",
   "execution_count": null,
   "metadata": {},
   "outputs": [],
   "source": [
    "\"\"\"\n",
    "next coming days plan -> \n",
    "\n",
    "oops -> 4 days \n",
    "DSA -> 4 weeks \n",
    "\n",
    "\"\"\""
   ]
  },
  {
   "cell_type": "code",
   "execution_count": null,
   "metadata": {},
   "outputs": [],
   "source": [
    "\"\"\"\n",
    "INHERITANCE in python \n",
    "\"\"\"\n",
    "\n",
    "\"\"\"\n",
    " class phone_Version1 : \n",
    "     def ..\n",
    "     def .. \n",
    "     \n",
    " class phone_Version2 :\n",
    "     def .. \n",
    "\"\"\""
   ]
  },
  {
   "cell_type": "code",
   "execution_count": 6,
   "metadata": {},
   "outputs": [
    {
     "name": "stdout",
     "output_type": "stream",
     "text": [
      "this is icloud in iphone\n"
     ]
    }
   ],
   "source": [
    "\"\"\"\n",
    " class A \n",
    "   ^\n",
    "   |        single level inhertance \n",
    " class B\n",
    "\"\"\"\n",
    "\n",
    "class iphone13:    # -> super class \n",
    "    def icloud(self):\n",
    "        print(\"this is icloud in iphone\")\n",
    "    def airdrop(self):\n",
    "        print(\"this is airdrop in iphone\")\n",
    "    def iwatch(self):\n",
    "        print(\"this is iwatch in iphone\")\n",
    "        \n",
    "\n",
    "class iphone14(iphone13): # -> base class \n",
    "    \n",
    "    def notch(self):\n",
    "        print(\"this is new notch..\")\n",
    "        \n",
    "    def SC(self):\n",
    "        print(\"this is s c in 14\")\n",
    "    \n",
    "\n",
    "iphone14_phone = iphone14()\n",
    "iphone14_phone.icloud() "
   ]
  },
  {
   "cell_type": "code",
   "execution_count": 7,
   "metadata": {},
   "outputs": [
    {
     "name": "stdout",
     "output_type": "stream",
     "text": [
      "this is icloud in iphone\n"
     ]
    }
   ],
   "source": [
    "\"\"\"\n",
    " class A \n",
    "   ^\n",
    "   |        multie level inhertance \n",
    " class B\n",
    "   ^\n",
    "   |\n",
    " class c\n",
    "\n",
    "\"\"\"\n",
    "\n",
    "class iphone13:    # -> super class \n",
    "    def icloud(self):\n",
    "        print(\"this is icloud in iphone\")\n",
    "    def airdrop(self):\n",
    "        print(\"this is airdrop in iphone\")\n",
    "    def iwatch(self):\n",
    "        print(\"this is iwatch in iphone\")\n",
    "        \n",
    "\n",
    "class iphone14(iphone13): # -> base class \n",
    "    \n",
    "    def notch(self):\n",
    "        print(\"this is new notch..\")\n",
    "        \n",
    "    def SC(self):\n",
    "        print(\"this is s c in 14\")\n",
    "    \n",
    "    \n",
    "class iphone15(iphone14):\n",
    "    \n",
    "    def takeToPeopleInMars(self):\n",
    "        print(\"takeToPeopleInMars\")\n",
    "\n",
    "        \n",
    "    \n",
    "iphone15_phone = iphone15()\n",
    "iphone15_phone.icloud()"
   ]
  },
  {
   "cell_type": "code",
   "execution_count": 9,
   "metadata": {},
   "outputs": [
    {
     "name": "stdout",
     "output_type": "stream",
     "text": [
      "this is icam \n"
     ]
    }
   ],
   "source": [
    "\"\"\"\n",
    " class A    class B\n",
    "   ^          ^  \n",
    "    \\        /            multiple inhertance \n",
    "     class C\n",
    "\n",
    "\"\"\"\n",
    "\n",
    "class iphone13:    # -> super class \n",
    "    def icloud(self):\n",
    "        print(\"this is icloud in iphone\")\n",
    "    def airdrop(self):\n",
    "        print(\"this is airdrop in iphone\")\n",
    "    def iwatch(self):\n",
    "        print(\"this is iwatch in iphone\")\n",
    "        \n",
    "class googlePix:    # -> super class \n",
    "    def icam(self):\n",
    "        print(\"this is icam \")\n",
    "        \n",
    "\n",
    "class iphone14(iphone13, googlePix): # -> base class \n",
    "    \n",
    "    def notch(self):\n",
    "        print(\"this is new notch..\")\n",
    "        \n",
    "    def SC(self):\n",
    "        print(\"this is s c in 14\")\n",
    "    \n",
    "\n",
    "iphone14_phone = iphone14()\n",
    "iphone14_phone.icam()"
   ]
  },
  {
   "cell_type": "code",
   "execution_count": 20,
   "metadata": {},
   "outputs": [
    {
     "name": "stdout",
     "output_type": "stream",
     "text": [
      "const of one\n",
      "const of two\n",
      "this is fun1 in one\n"
     ]
    }
   ],
   "source": [
    "\"\"\"\n",
    "const in inhertance\n",
    "\"\"\"\n",
    "\n",
    "class one: # -> super class\n",
    "    \n",
    "    def __init__(self):\n",
    "        print(\"const of one\")\n",
    "    \n",
    "    def fun1(self):\n",
    "        print(\"this is fun1 in one\")\n",
    "        \n",
    "class two(one): # -> base class\n",
    "    \n",
    "    def __init__(self): # only if in case there is no __init__ fun in base class only then it will go to super class\n",
    "        super().__init__()\n",
    "        print(\"const of two\")\n",
    "    \n",
    "    def fun2(self):\n",
    "        print(\"this is fun1 in two\")\n",
    "        \n",
    "obj = two()\n",
    "obj.fun1()"
   ]
  },
  {
   "cell_type": "code",
   "execution_count": 25,
   "metadata": {},
   "outputs": [
    {
     "name": "stdout",
     "output_type": "stream",
     "text": [
      "this is a googlePix\n",
      "this is icloud in iphone13\n"
     ]
    }
   ],
   "source": [
    "\"\"\" \n",
    "- > MRO (Method resolution oder)  alwasys goes by left to right\n",
    "\n",
    "\n",
    " class A    class B\n",
    "   ^          ^  \n",
    "    \\        /            multiple inhertance \n",
    "     class C\n",
    "\n",
    "\"\"\"\n",
    "\n",
    "class iphone13:    # -> super class \n",
    "    \n",
    "    def __init__(self):\n",
    "        print(\"this is a iphone13\")\n",
    "    \n",
    "    def icloud(self):\n",
    "        print(\"this is icloud in iphone13\")\n",
    "    def airdrop(self):\n",
    "        print(\"this is airdrop in iphone\")\n",
    "    def iwatch(self):\n",
    "        print(\"this is iwatch in iphone\")\n",
    "        \n",
    "class googlePix:    # -> super class \n",
    "    \n",
    "    def __init__(self):\n",
    "        print(\"this is a googlePix\")\n",
    "        \n",
    "#     def icloud(self):\n",
    "#         print(\"this is icloud in googlePix\")\n",
    "    \n",
    "    def icam(self):\n",
    "        print(\"this is icam \")\n",
    "        \n",
    "\n",
    "class iphone14(googlePix, iphone13): # -> base class \n",
    "    \n",
    "    def notch(self):\n",
    "        print(\"this is new notch..\")\n",
    "        \n",
    "    def SC(self):\n",
    "        print(\"this is s c in 14\")\n",
    "    \n",
    "\n",
    "iphone14_phone = iphone14()\n",
    "iphone14_phone.icloud()"
   ]
  },
  {
   "cell_type": "code",
   "execution_count": null,
   "metadata": {},
   "outputs": [],
   "source": []
  }
 ],
 "metadata": {
  "kernelspec": {
   "display_name": "Python 3",
   "language": "python",
   "name": "python3"
  },
  "language_info": {
   "codemirror_mode": {
    "name": "ipython",
    "version": 3
   },
   "file_extension": ".py",
   "mimetype": "text/x-python",
   "name": "python",
   "nbconvert_exporter": "python",
   "pygments_lexer": "ipython3",
   "version": "3.8.5"
  }
 },
 "nbformat": 4,
 "nbformat_minor": 4
}
